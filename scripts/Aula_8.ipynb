{
 "cells": [
  {
   "cell_type": "code",
   "execution_count": 6,
   "metadata": {
    "collapsed": true
   },
   "outputs": [],
   "source": [
    "import pandas as pd\n",
    "from si.model_selection.split import train_test_split\n",
    "from sklearn.preprocessing import StandardScaler\n",
    "from si.linear_model.logistic_regression import LogisticRegression\n",
    "from si.io.csv import read_csv\n",
    "\n",
    "# Load the dataset\n",
    "df = read_csv(r\"C:\\Users\\maryg\\si\\datasets\\transporters.csv\", sep=\",\", label=True, features=True)"
   ]
  },
  {
   "cell_type": "code",
   "execution_count": 9,
   "outputs": [
    {
     "data": {
      "text/plain": "<si.data.dataset.Dataset at 0x170b6f1a7d0>"
     },
     "execution_count": 9,
     "metadata": {},
     "output_type": "execute_result"
    }
   ],
   "source": [
    "from si.feature_extraction.k_mer import KMer\n",
    "\n",
    "# Calculate the k-mer composition\n",
    "k_mer = KMer(k=2)\n",
    "kmer_transp = k_mer.fit_transform(df, alphabet='ASDFGHJKLQWERTYUIOP')"
   ],
   "metadata": {
    "collapsed": false,
    "pycharm": {
     "name": "#%%\n"
    }
   }
  },
  {
   "cell_type": "code",
   "execution_count": 10,
   "outputs": [],
   "source": [
    "kmer_transp.X = StandardScaler().fit_transform(kmer_transp.X)"
   ],
   "metadata": {
    "collapsed": false,
    "pycharm": {
     "name": "#%%\n"
    }
   }
  },
  {
   "cell_type": "code",
   "execution_count": 15,
   "outputs": [
    {
     "data": {
      "text/plain": "((1609, 361), (402, 361))"
     },
     "execution_count": 15,
     "metadata": {},
     "output_type": "execute_result"
    }
   ],
   "source": [
    "t_train, t_test= train_test_split(kmer_transp)\n",
    "t_train.shape(), t_test.shape()"
   ],
   "metadata": {
    "collapsed": false,
    "pycharm": {
     "name": "#%%\n"
    }
   }
  },
  {
   "cell_type": "code",
   "execution_count": 16,
   "outputs": [
    {
     "name": "stdout",
     "output_type": "stream",
     "text": [
      "Test score: 0.49\n"
     ]
    }
   ],
   "source": [
    "# Train the model\n",
    "model = LogisticRegression()\n",
    "model.fit(t_train)\n",
    "\n",
    "# Evaluate the model\n",
    "score = model.score(t_test)\n",
    "print(f'Test score: {score:.2f}')"
   ],
   "metadata": {
    "collapsed": false,
    "pycharm": {
     "name": "#%%\n"
    }
   }
  }
 ],
 "metadata": {
  "kernelspec": {
   "display_name": "Python 3",
   "language": "python",
   "name": "python3"
  },
  "language_info": {
   "codemirror_mode": {
    "name": "ipython",
    "version": 2
   },
   "file_extension": ".py",
   "mimetype": "text/x-python",
   "name": "python",
   "nbconvert_exporter": "python",
   "pygments_lexer": "ipython2",
   "version": "2.7.6"
  }
 },
 "nbformat": 4,
 "nbformat_minor": 0
}