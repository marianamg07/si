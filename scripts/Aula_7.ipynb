{
 "cells": [
  {
   "cell_type": "code",
   "execution_count": 12,
   "metadata": {
    "collapsed": true
   },
   "outputs": [],
   "source": [
    "from si.io.csv import read_csv\n",
    "\n",
    "# Load the dataset\n",
    "df = read_csv(r\"C:\\Users\\maryg\\si\\datasets\\breast-bin.csv\", sep=\",\", label=True, features=True)"
   ]
  },
  {
   "cell_type": "code",
   "execution_count": 13,
   "outputs": [],
   "source": [
    "from sklearn.preprocessing import StandardScaler\n",
    "\n",
    "df.X = StandardScaler().fit_transform(df.X)"
   ],
   "metadata": {
    "collapsed": false,
    "pycharm": {
     "name": "#%%\n"
    }
   }
  },
  {
   "cell_type": "code",
   "execution_count": 14,
   "outputs": [],
   "source": [
    "from si.linear_model.logistic_regression import LogisticRegression\n",
    "\n",
    "model = LogisticRegression()"
   ],
   "metadata": {
    "collapsed": false,
    "pycharm": {
     "name": "#%%\n"
    }
   }
  },
  {
   "cell_type": "code",
   "execution_count": 15,
   "outputs": [],
   "source": [
    "import numpy as np\n",
    "\n",
    "parameter_distribution = {\n",
    "  \"l2_penalty\": np.linspace(1, 10, 10),\n",
    "  \"alpha\": np.linspace(0.001, 0.0001, 100),\n",
    "  \"max_iter\": np.linspace(1000, 2000, 200)\n",
    "}"
   ],
   "metadata": {
    "collapsed": false,
    "pycharm": {
     "name": "#%%\n"
    }
   }
  },
  {
   "cell_type": "code",
   "execution_count": 16,
   "outputs": [
    {
     "ename": "TypeError",
     "evalue": "'numpy.float64' object cannot be interpreted as an integer",
     "output_type": "error",
     "traceback": [
      "\u001B[1;31m---------------------------------------------------------------------------\u001B[0m",
      "\u001B[1;31mTypeError\u001B[0m                                 Traceback (most recent call last)",
      "Cell \u001B[1;32mIn[16], line 3\u001B[0m\n\u001B[0;32m      1\u001B[0m \u001B[38;5;28;01mfrom\u001B[39;00m \u001B[38;5;21;01msi\u001B[39;00m\u001B[38;5;21;01m.\u001B[39;00m\u001B[38;5;21;01mmodel_selection\u001B[39;00m\u001B[38;5;21;01m.\u001B[39;00m\u001B[38;5;21;01mrandomized_search\u001B[39;00m \u001B[38;5;28;01mimport\u001B[39;00m randomized_search_cv\n\u001B[1;32m----> 3\u001B[0m scores \u001B[38;5;241m=\u001B[39m \u001B[43mrandomized_search_cv\u001B[49m\u001B[43m(\u001B[49m\u001B[43mmodel\u001B[49m\u001B[43m,\u001B[49m\u001B[43mdf\u001B[49m\u001B[43m,\u001B[49m\u001B[43mparameter_distribution\u001B[49m\u001B[43m,\u001B[49m\u001B[43mcv\u001B[49m\u001B[38;5;241;43m=\u001B[39;49m\u001B[38;5;241;43m3\u001B[39;49m\u001B[43m,\u001B[49m\u001B[43m \u001B[49m\u001B[43mn_iter\u001B[49m\u001B[38;5;241;43m=\u001B[39;49m\u001B[38;5;241;43m10\u001B[39;49m\u001B[43m)\u001B[49m\n",
      "File \u001B[1;32m~\\si\\src\\si\\model_selection\\randomized_search.py:60\u001B[0m, in \u001B[0;36mrandomized_search_cv\u001B[1;34m(model, dataset, parameter_distribution, scoring, cv, n_iter, test_size)\u001B[0m\n\u001B[0;32m     57\u001B[0m   \u001B[38;5;28msetattr\u001B[39m(model, parameter, value)\n\u001B[0;32m     59\u001B[0m \u001B[38;5;66;03m# Cross-validate the model with the current parameter combination\u001B[39;00m\n\u001B[1;32m---> 60\u001B[0m score \u001B[38;5;241m=\u001B[39m \u001B[43mcross_validate\u001B[49m\u001B[43m(\u001B[49m\u001B[43mmodel\u001B[49m\u001B[38;5;241;43m=\u001B[39;49m\u001B[43mmodel\u001B[49m\u001B[43m,\u001B[49m\u001B[43m \u001B[49m\u001B[43mdataset\u001B[49m\u001B[38;5;241;43m=\u001B[39;49m\u001B[43mdataset\u001B[49m\u001B[43m,\u001B[49m\u001B[43m \u001B[49m\u001B[43mscoring\u001B[49m\u001B[38;5;241;43m=\u001B[39;49m\u001B[43mscoring\u001B[49m\u001B[43m,\u001B[49m\u001B[43m \u001B[49m\u001B[43mcv\u001B[49m\u001B[38;5;241;43m=\u001B[39;49m\u001B[43mcv\u001B[49m\u001B[43m,\u001B[49m\u001B[43m \u001B[49m\u001B[43mtest_size\u001B[49m\u001B[38;5;241;43m=\u001B[39;49m\u001B[43mtest_size\u001B[49m\u001B[43m)\u001B[49m\n\u001B[0;32m     62\u001B[0m \u001B[38;5;66;03m# Save the parameter combination and the obtained scores\u001B[39;00m\n\u001B[0;32m     63\u001B[0m scores[\u001B[38;5;124m'\u001B[39m\u001B[38;5;124mparameters\u001B[39m\u001B[38;5;124m'\u001B[39m]\u001B[38;5;241m.\u001B[39mappend(parameters)\n",
      "File \u001B[1;32m~\\si\\src\\si\\model_selection\\cross_validate.py:52\u001B[0m, in \u001B[0;36mcross_validate\u001B[1;34m(model, dataset, scoring, cv, test_size)\u001B[0m\n\u001B[0;32m     49\u001B[0m train, test \u001B[38;5;241m=\u001B[39m train_test_split(dataset\u001B[38;5;241m=\u001B[39mdataset, test_size\u001B[38;5;241m=\u001B[39mtest_size, random_state\u001B[38;5;241m=\u001B[39mrandom_state)\n\u001B[0;32m     51\u001B[0m \u001B[38;5;66;03m# fit the model on the train set\u001B[39;00m\n\u001B[1;32m---> 52\u001B[0m \u001B[43mmodel\u001B[49m\u001B[38;5;241;43m.\u001B[39;49m\u001B[43mfit\u001B[49m\u001B[43m(\u001B[49m\u001B[43mtrain\u001B[49m\u001B[43m)\u001B[49m\n\u001B[0;32m     54\u001B[0m \u001B[38;5;66;03m# score the model on the test set\u001B[39;00m\n\u001B[0;32m     55\u001B[0m \u001B[38;5;28;01mif\u001B[39;00m scoring \u001B[38;5;129;01mis\u001B[39;00m \u001B[38;5;28;01mNone\u001B[39;00m:\n\u001B[0;32m     56\u001B[0m \n\u001B[0;32m     57\u001B[0m     \u001B[38;5;66;03m# store the train score\u001B[39;00m\n",
      "File \u001B[1;32m~\\si\\src\\si\\linear_model\\logistic_regression.py:70\u001B[0m, in \u001B[0;36mLogisticRegression.fit\u001B[1;34m(self, dataset)\u001B[0m\n\u001B[0;32m     67\u001B[0m \u001B[38;5;28mself\u001B[39m\u001B[38;5;241m.\u001B[39mtheta_zero \u001B[38;5;241m=\u001B[39m \u001B[38;5;241m0\u001B[39m\n\u001B[0;32m     69\u001B[0m \u001B[38;5;66;03m# gradient descent\u001B[39;00m\n\u001B[1;32m---> 70\u001B[0m \u001B[38;5;28;01mfor\u001B[39;00m i \u001B[38;5;129;01min\u001B[39;00m \u001B[38;5;28;43mrange\u001B[39;49m\u001B[43m(\u001B[49m\u001B[38;5;28;43mself\u001B[39;49m\u001B[38;5;241;43m.\u001B[39;49m\u001B[43mmax_iter\u001B[49m\u001B[43m)\u001B[49m:\n\u001B[0;32m     71\u001B[0m     \u001B[38;5;66;03m# predicted y\u001B[39;00m\n\u001B[0;32m     72\u001B[0m     y_pred \u001B[38;5;241m=\u001B[39m np\u001B[38;5;241m.\u001B[39mdot(dataset\u001B[38;5;241m.\u001B[39mX, \u001B[38;5;28mself\u001B[39m\u001B[38;5;241m.\u001B[39mtheta) \u001B[38;5;241m+\u001B[39m \u001B[38;5;28mself\u001B[39m\u001B[38;5;241m.\u001B[39mtheta_zero\n\u001B[0;32m     74\u001B[0m     \u001B[38;5;66;03m# apply sigmoid function\u001B[39;00m\n",
      "\u001B[1;31mTypeError\u001B[0m: 'numpy.float64' object cannot be interpreted as an integer"
     ]
    }
   ],
   "source": [
    "from si.model_selection.randomized_search import randomized_search_cv\n",
    "\n",
    "scores = randomized_search_cv(model,df,parameter_distribution,cv=3, n_iter=10)"
   ],
   "metadata": {
    "collapsed": false,
    "pycharm": {
     "name": "#%%\n"
    }
   }
  },
  {
   "cell_type": "code",
   "execution_count": null,
   "outputs": [],
   "source": [],
   "metadata": {
    "collapsed": false,
    "pycharm": {
     "name": "#%%\n"
    }
   }
  }
 ],
 "metadata": {
  "kernelspec": {
   "display_name": "Python 3",
   "language": "python",
   "name": "python3"
  },
  "language_info": {
   "codemirror_mode": {
    "name": "ipython",
    "version": 2
   },
   "file_extension": ".py",
   "mimetype": "text/x-python",
   "name": "python",
   "nbconvert_exporter": "python",
   "pygments_lexer": "ipython2",
   "version": "2.7.6"
  }
 },
 "nbformat": 4,
 "nbformat_minor": 0
}