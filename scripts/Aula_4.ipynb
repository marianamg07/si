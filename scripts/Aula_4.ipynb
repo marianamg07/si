{
 "cells": [
  {
   "cell_type": "code",
   "execution_count": 2,
   "metadata": {
    "collapsed": true
   },
   "outputs": [
    {
     "name": "stdout",
     "output_type": "stream",
     "text": [
      "   syct  mmin   mmax  cach  chmin  chmax  perf\n",
      "0   125   256   6000   256     16    128   198\n",
      "1    29  8000  32000    32      8     32   269\n",
      "2    29  8000  32000    32      8     32   220\n",
      "3    29  8000  32000    32      8     32   172\n",
      "4    29  8000  16000    32      8     16   132\n"
     ]
    }
   ],
   "source": [
    "\n",
    "from si.data.dataset import Dataset\n",
    "from si.model_selection.split import train_test_split\n",
    "import pandas as pd\n",
    "\n",
    "\n",
    "df = pd.read_csv(r\"C:\\Users\\maryg\\si\\datasets\\cpu.csv\")\n",
    "print(df.head())\n",
    "cpu = Dataset.from_dataframe(df, label='perf')\n"
   ]
  },
  {
   "cell_type": "code",
   "execution_count": 6,
   "outputs": [
    {
     "name": "stdout",
     "output_type": "stream",
     "text": [
      "The rmse of the model is: 239.58696391734838\n"
     ]
    }
   ],
   "source": [
    "from si.neighbors.knn_regressor import KNNRegressor\n",
    "\n",
    "dataset_train, dataset_test = train_test_split(cpu)\n",
    "knn = KNNRegressor(k=3)\n",
    "knn.fit(dataset_train)\n",
    "score = knn.score(dataset_test)\n",
    "print(f'The rmse of the model is: {score}')"
   ],
   "metadata": {
    "collapsed": false,
    "pycharm": {
     "name": "#%%\n"
    }
   }
  }
 ],
 "metadata": {
  "kernelspec": {
   "display_name": "Python 3",
   "language": "python",
   "name": "python3"
  },
  "language_info": {
   "codemirror_mode": {
    "name": "ipython",
    "version": 2
   },
   "file_extension": ".py",
   "mimetype": "text/x-python",
   "name": "python",
   "nbconvert_exporter": "python",
   "pygments_lexer": "ipython2",
   "version": "2.7.6"
  }
 },
 "nbformat": 4,
 "nbformat_minor": 0
}