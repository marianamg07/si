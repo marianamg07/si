{
 "cells": [
  {
   "cell_type": "code",
   "execution_count": 2,
   "metadata": {
    "collapsed": true
   },
   "outputs": [
    {
     "data": {
      "text/plain": "<src.si.neural_networks.nn.NN at 0x243ec78afe0>"
     },
     "execution_count": 2,
     "metadata": {},
     "output_type": "execute_result"
    }
   ],
   "source": [
    "from src.si.data.dataset import Dataset\n",
    "from si.neural_networks.layer import Dense\n",
    "from si.neural_networks.nn import NN\n",
    "from si.neural_networks.sigmoid_activation import SigmoidActivation\n",
    "\n",
    "# Create 3 Dense layers\n",
    "layer_1 = Dense(input_size=32, output_size=32)\n",
    "layer_2 = Dense(input_size=32, output_size=16)\n",
    "layer_3 = Dense(input_size=16, output_size=1)\n",
    "\n",
    "# Use Sigmoid activation for all layers\n",
    "sigmoid_1 = SigmoidActivation()\n",
    "sigmoid_2 = SigmoidActivation()\n",
    "sigmoid_3 = SigmoidActivation()\n",
    "\n",
    "# Create the neural network model\n",
    "model_nn_binary = NN(layers=[layer_1, sigmoid_1,\n",
    "                                layer_2, sigmoid_2,\n",
    "                                layer_3, sigmoid_3])\n",
    "model_nn_binary"
   ]
  },
  {
   "cell_type": "code",
   "execution_count": 3,
   "outputs": [
    {
     "data": {
      "text/plain": "<si.neural_networks.nn.NN at 0x243ec7895d0>"
     },
     "execution_count": 3,
     "metadata": {},
     "output_type": "execute_result"
    }
   ],
   "source": [
    "from src.si.data.dataset import Dataset\n",
    "from si.neural_networks.layer import Dense\n",
    "from si.neural_networks.nn import NN\n",
    "from si.neural_networks.sigmoid_activation import SigmoidActivation\n",
    "from si.neural_networks.soft_max_activation import SoftMaxActivation\n",
    "# Create 3 Dense layers\n",
    "layer_1 = Dense(input_size=32, output_size=32)\n",
    "layer_2 = Dense(input_size=32, output_size=16)\n",
    "layer_3 = Dense(input_size=16, output_size=1)\n",
    "\n",
    "# Use Sigmoid activation for all layers\n",
    "sigmoid_1 = SigmoidActivation()\n",
    "sigmoid_2 = SigmoidActivation()\n",
    "sigmoid_3 = SoftMaxActivation()\n",
    "\n",
    "# Create the neural network model\n",
    "model_nn_multi = NN(layers=[layer_1, sigmoid_1,\n",
    "                                layer_2, sigmoid_2,\n",
    "                                layer_3, sigmoid_3])\n",
    "model_nn_multi"
   ],
   "metadata": {
    "collapsed": false,
    "pycharm": {
     "name": "#%%\n"
    }
   }
  },
  {
   "cell_type": "code",
   "execution_count": 4,
   "outputs": [
    {
     "data": {
      "text/plain": "<si.neural_networks.nn.NN at 0x243ec788f70>"
     },
     "execution_count": 4,
     "metadata": {},
     "output_type": "execute_result"
    }
   ],
   "source": [
    "from src.si.data.dataset import Dataset\n",
    "from si.neural_networks.layer import Dense\n",
    "from si.neural_networks.nn import NN\n",
    "from si.neural_networks.re_lu_activation import ReLUActivation\n",
    "# Create 3 Dense layers\n",
    "layer_1 = Dense(input_size=32, output_size=32)\n",
    "layer_2 = Dense(input_size=32, output_size=16)\n",
    "layer_3 = Dense(input_size=16, output_size=1)\n",
    "\n",
    "# Use Sigmoid activation for all layers\n",
    "sigmoid_1 = ReLUActivation()\n",
    "sigmoid_2 = ReLUActivation()\n",
    "sigmoid_3 = ReLUActivation()\n",
    "\n",
    "# Create the neural network model\n",
    "model_regression = NN(layers=[layer_1, sigmoid_1,\n",
    "                                layer_2, sigmoid_2,\n",
    "                                layer_3, sigmoid_3])\n",
    "model_regression"
   ],
   "metadata": {
    "collapsed": false,
    "pycharm": {
     "name": "#%%\n"
    }
   }
  }
 ],
 "metadata": {
  "kernelspec": {
   "display_name": "Python 3",
   "language": "python",
   "name": "python3"
  },
  "language_info": {
   "codemirror_mode": {
    "name": "ipython",
    "version": 2
   },
   "file_extension": ".py",
   "mimetype": "text/x-python",
   "name": "python",
   "nbconvert_exporter": "python",
   "pygments_lexer": "ipython2",
   "version": "2.7.6"
  }
 },
 "nbformat": 4,
 "nbformat_minor": 0
}